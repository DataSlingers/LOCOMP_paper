{
 "cells": [
  {
   "cell_type": "markdown",
   "id": "d11d16fa",
   "metadata": {},
   "source": [
    "## Regression"
   ]
  },
  {
   "cell_type": "code",
   "execution_count": 4,
   "id": "12cb353a",
   "metadata": {},
   "outputs": [
    {
     "name": "stdout",
     "output_type": "stream",
     "text": [
      "LOCOMP\n"
     ]
    }
   ],
   "source": [
    "from functions.simulation_regression import *\n",
    "from functions.ML_models import *\n",
    "from functions.LOCO_regression import *\n",
    "import time\n",
    "import pandas as pd\n",
    "\n",
    "import warnings\n",
    "warnings.filterwarnings(\"ignore\")\n",
    "N=500 \n",
    "M=200\n",
    "B=100\n",
    "\n",
    "n_ratio=int(np.sqrt(N))/N\n",
    "m_ratio=int(np.sqrt(M))/M\n",
    "\n",
    "snr = 5\n",
    "itrial=1\n",
    "\n",
    "fit_func = DecisionTreeReg\n",
    "\n",
    "print('LOCOMP')\n",
    "start_time=time.time()\n",
    "X,Y,X1,Y1 =SimuLinear(N,M,B,snr,seed = 123*itrial+456)\n",
    "res = LOCOMPReg(X,Y, n_ratio,m_ratio,B,fit_func, selected_features=[],alpha=0.1,bonf=False)\n",
    "times= time.time()-start_time\n",
    "\n"
   ]
  },
  {
   "cell_type": "markdown",
   "id": "4bb404f7",
   "metadata": {},
   "source": [
    "## Classification"
   ]
  },
  {
   "cell_type": "code",
   "execution_count": 6,
   "id": "32cde0ef",
   "metadata": {},
   "outputs": [
    {
     "name": "stdout",
     "output_type": "stream",
     "text": [
      "LOCOMP\n"
     ]
    }
   ],
   "source": [
    "from functions.simulation_classification import *\n",
    "from functions.ML_models import *\n",
    "from functions.LOCO_classification import *\n",
    "import time\n",
    "import pandas as pd\n",
    "\n",
    "import warnings\n",
    "warnings.filterwarnings(\"ignore\")\n",
    "N=500 \n",
    "M=200\n",
    "B=100\n",
    "\n",
    "n_ratio=int(np.sqrt(N))/N\n",
    "m_ratio=int(np.sqrt(M))/M\n",
    "\n",
    "snr = 5\n",
    "itrial=1\n",
    "\n",
    "fit_func = DecisionTreeClass\n",
    "\n",
    "print('LOCOMP')\n",
    "start_time=time.time()\n",
    "X,Y,X1,Y1 =SimuLinearClass(N,M,B,snr,seed = 123*itrial+456)\n",
    "res = LOCOMPClass(X,Y,n_ratio,m_ratio,B,fit_func , selected_features=[],alpha=0.1,bonf=True)\n",
    "times= time.time()-start_time\n",
    "\n"
   ]
  },
  {
   "cell_type": "code",
   "execution_count": null,
   "id": "9ff8f9c4",
   "metadata": {},
   "outputs": [],
   "source": []
  }
 ],
 "metadata": {
  "kernelspec": {
   "display_name": "Python 3 (ipykernel)",
   "language": "python",
   "name": "python3"
  },
  "language_info": {
   "codemirror_mode": {
    "name": "ipython",
    "version": 3
   },
   "file_extension": ".py",
   "mimetype": "text/x-python",
   "name": "python",
   "nbconvert_exporter": "python",
   "pygments_lexer": "ipython3",
   "version": "3.9.12"
  }
 },
 "nbformat": 4,
 "nbformat_minor": 5
}
